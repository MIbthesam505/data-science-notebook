{
 "cells": [
  {
   "cell_type": "markdown",
   "id": "2e3f3478",
   "metadata": {},
   "source": []
  },
  {
   "cell_type": "code",
   "execution_count": null,
   "id": "7aa0e9b5",
   "metadata": {
    "vscode": {
     "languageId": "plaintext"
    }
   },
   "outputs": [],
   "source": [
    "# Convert minutes to hours\n",
    "minutes = 150\n",
    "hours = minutes / 60\n",
    "print(f\"{minutes} minutes is equal to {hours} hours\")\n"
   ]
  },
  {
   "cell_type": "markdown",
   "id": "fd5a49c3",
   "metadata": {},
   "source": [
    "**Author:** Muhammad Ibthesam\n"
   ]
  },
  {
   "cell_type": "code",
   "execution_count": null,
   "id": "32677afb",
   "metadata": {
    "vscode": {
     "languageId": "plaintext"
    }
   },
   "outputs": [],
   "source": []
  },
  {
   "cell_type": "markdown",
   "id": "d6ed18a7",
   "metadata": {},
   "source": [
    "My first notebook assignment.\n",
    "Arithmetic operations in Python allow you to perform mathematical calculations such as addition, subtraction, multiplication, and division. For example, `3 + 5` returns `8`.\n",
    "\n",
    "\n",
    "\n"
   ]
  }
 ],
 "metadata": {
  "language_info": {
   "name": "python"
  }
 },
 "nbformat": 4,
 "nbformat_minor": 5
}
